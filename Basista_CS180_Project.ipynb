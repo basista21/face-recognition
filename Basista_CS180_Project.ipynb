{
  "nbformat": 4,
  "nbformat_minor": 0,
  "metadata": {
    "colab": {
      "name": "Basista_CS180_Project",
      "provenance": []
    },
    "kernelspec": {
      "name": "python3",
      "display_name": "Python 3"
    },
    "language_info": {
      "name": "python"
    }
  },
  "cells": [
    {
      "cell_type": "markdown",
      "metadata": {
        "id": "lvhh73ioQVGy"
      },
      "source": [
        "# CS 180 Project: Face Recognition\n",
        "\n",
        "# Student Name: Angelica Basista\n",
        "\n",
        "Face Recognition using Multinomial Naive Bayes, Gaussian Naive Bayes, and SVM Classifier on the Yale Face Database.\n",
        "\n"
      ]
    },
    {
      "cell_type": "markdown",
      "metadata": {
        "id": "0vY8EV4pr1JK"
      },
      "source": [
        "# Source Code"
      ]
    },
    {
      "cell_type": "markdown",
      "metadata": {
        "id": "KhfhZUdB2Nl_"
      },
      "source": [
        "## Import Libraries\n"
      ]
    },
    {
      "cell_type": "code",
      "metadata": {
        "id": "2DYKTi3qc9Rj"
      },
      "source": [
        "import matplotlib.pyplot as plt\n",
        "import numpy as np\n",
        "import pandas as pd\n",
        "\n",
        "from PIL import Image\n",
        "from google.colab import files\n",
        "from skimage.feature import hog\n",
        "from skimage.color import rgb2grey\n",
        "\n",
        "from sklearn import svm\n",
        "from sklearn import metrics\n",
        "from sklearn.preprocessing import StandardScaler\n",
        "from sklearn.decomposition import PCA\n",
        "from sklearn.model_selection import train_test_split\n",
        "from sklearn.naive_bayes import GaussianNB\n",
        "from sklearn.metrics import classification_report, accuracy_score\n",
        "from sklearn.feature_extraction.text import TfidfVectorizer\n",
        "from sklearn.naive_bayes import MultinomialNB\n",
        "from sklearn.pipeline import Pipeline"
      ],
      "execution_count": null,
      "outputs": []
    },
    {
      "cell_type": "markdown",
      "metadata": {
        "id": "t7fEyjCn270a"
      },
      "source": [
        "## Upload dataset\n",
        "\n",
        "Upload dataset and get the photos whose filename starts with \"subject\"."
      ]
    },
    {
      "cell_type": "code",
      "metadata": {
        "id": "C8OTf2hSdHod"
      },
      "source": [
        "uploaded = files.upload()\n"
      ],
      "execution_count": null,
      "outputs": []
    },
    {
      "cell_type": "code",
      "metadata": {
        "id": "vNpfiSoBB-Dw"
      },
      "source": [
        "# Should modify if not using Yale Face Database or if filenames are modified\n",
        "files = [file for file in uploaded if file[:7]==\"subject\"] "
      ],
      "execution_count": null,
      "outputs": []
    },
    {
      "cell_type": "markdown",
      "metadata": {
        "id": "PcNH3acB5PHx"
      },
      "source": [
        "## Define functions for getting the features of an image\n",
        "\n",
        "Three functions for getting features from image are defined. We will observe on which features matrix the models perform best."
      ]
    },
    {
      "cell_type": "code",
      "metadata": {
        "id": "hgCDQehu3msN"
      },
      "source": [
        "# returns the original features only (the image converted to np.array)\n",
        "def get_orig_features(file):\n",
        "  img = np.array(Image.open(file))\n",
        "  grey_img = rgb2grey(img) # The Yale dataset is already in greyscale\n",
        "  return grey_img.flatten()\n",
        "\n",
        "# returns hog_features only\n",
        "def get_hog_features(file):\n",
        "  img = np.array(Image.open(file))\n",
        "  grey_img = rgb2grey(img) # The Yale dataset is already in greyscale\n",
        "  hog_features = hog(grey_img, block_norm='L2-Hys', pixels_per_cell=(16,16))\n",
        "  return hog_features\n",
        "\n",
        "# returns original features + hog_features\n",
        "def get_features(file):\n",
        "  img = np.array(Image.open(file))\n",
        "  grey_img = rgb2grey(img) # The Yale dataset is already in greyscale\n",
        "  hog_features = hog(grey_img, block_norm='L2-Hys', pixels_per_cell=(16,16))\n",
        "  features = np.hstack((grey_img.flatten(), hog_features))\n",
        "  return features\n"
      ],
      "execution_count": null,
      "outputs": []
    },
    {
      "cell_type": "markdown",
      "metadata": {
        "id": "zfMM_eL06K6E"
      },
      "source": [
        "## Split into train and test sets manually\n",
        "\n",
        "Here, the test set are those with the \"normal\" description, representing 1/15 of the data. It was observed that using the get_hog_features function for the image features resulted to higher accuracy scores, so that is what will be used."
      ]
    },
    {
      "cell_type": "code",
      "metadata": {
        "id": "RpIOj5rQ7NNt"
      },
      "source": [
        "def split_dataset(test_labels):\n",
        "  x_train, x_test, y_train, y_test = [], [], [], []\n",
        "  for file in files:\n",
        "    label, desc = file.split('.')\n",
        "    # features = get_features(file)\n",
        "    # features = get_orig_features(file)\n",
        "    features = get_hog_features(file)\n",
        "\n",
        "    if desc not in test_labels:\n",
        "      y_train.append(label)\n",
        "      x_train.append(features)\n",
        "    else:\n",
        "      y_test.append(label)\n",
        "      x_test.append(features)\n",
        "  return np.array(x_train), np.array(x_test), np.array(y_train), np.array(y_test)\n",
        "\n",
        "\n",
        "test_labels = [\"glasses\"]  # Only images with normal description are used in test set\n",
        "x_train, x_test, y_train, y_test = split_dataset(test_labels)"
      ],
      "execution_count": null,
      "outputs": []
    },
    {
      "cell_type": "markdown",
      "metadata": {
        "id": "cc5QXr8ZE93u"
      },
      "source": [
        "## Gaussian Naive Bayes"
      ]
    },
    {
      "cell_type": "markdown",
      "metadata": {
        "id": "sFdx18WMFSeG"
      },
      "source": [
        "### Train model"
      ]
    },
    {
      "cell_type": "code",
      "metadata": {
        "colab": {
          "base_uri": "https://localhost:8080/"
        },
        "id": "iXhrYzceFTTH",
        "outputId": "6f07a117-4307-4189-cc4a-18e3807d8aad"
      },
      "source": [
        "gnb = GaussianNB()\n",
        "gnb.fit(x_train, y_train)"
      ],
      "execution_count": null,
      "outputs": [
        {
          "output_type": "execute_result",
          "data": {
            "text/plain": [
              "GaussianNB(priors=None, var_smoothing=1e-09)"
            ]
          },
          "metadata": {
            "tags": []
          },
          "execution_count": 7
        }
      ]
    },
    {
      "cell_type": "markdown",
      "metadata": {
        "id": "qmFUDCFQ-UQd"
      },
      "source": [
        "### Show probability for each label\n",
        "\n"
      ]
    },
    {
      "cell_type": "code",
      "metadata": {
        "colab": {
          "base_uri": "https://localhost:8080/"
        },
        "id": "wrw5j4Qd-hiH",
        "outputId": "5eb7544f-8151-4011-cff7-021620a25331"
      },
      "source": [
        "gnb.predict_proba(x_test)"
      ],
      "execution_count": null,
      "outputs": [
        {
          "output_type": "execute_result",
          "data": {
            "text/plain": [
              "array([[1., 0., 0., 0., 0., 0., 0., 0., 0., 0., 0., 0., 0., 0., 0.],\n",
              "       [0., 1., 0., 0., 0., 0., 0., 0., 0., 0., 0., 0., 0., 0., 0.],\n",
              "       [0., 0., 1., 0., 0., 0., 0., 0., 0., 0., 0., 0., 0., 0., 0.],\n",
              "       [0., 0., 0., 1., 0., 0., 0., 0., 0., 0., 0., 0., 0., 0., 0.],\n",
              "       [0., 0., 0., 0., 1., 0., 0., 0., 0., 0., 0., 0., 0., 0., 0.],\n",
              "       [0., 0., 0., 0., 0., 1., 0., 0., 0., 0., 0., 0., 0., 0., 0.],\n",
              "       [0., 0., 0., 0., 0., 0., 1., 0., 0., 0., 0., 0., 0., 0., 0.],\n",
              "       [0., 0., 0., 0., 0., 0., 0., 1., 0., 0., 0., 0., 0., 0., 0.],\n",
              "       [0., 0., 0., 0., 0., 0., 0., 1., 0., 0., 0., 0., 0., 0., 0.],\n",
              "       [0., 0., 0., 0., 0., 0., 0., 0., 0., 0., 0., 1., 0., 0., 0.],\n",
              "       [0., 0., 0., 0., 0., 0., 0., 0., 0., 0., 1., 0., 0., 0., 0.],\n",
              "       [0., 0., 0., 0., 0., 0., 0., 0., 0., 0., 0., 1., 0., 0., 0.],\n",
              "       [0., 0., 0., 0., 0., 0., 0., 0., 0., 0., 0., 0., 1., 0., 0.],\n",
              "       [0., 0., 0., 0., 0., 0., 0., 0., 0., 0., 0., 0., 0., 1., 0.],\n",
              "       [0., 0., 0., 0., 0., 0., 0., 0., 0., 0., 0., 0., 0., 0., 1.]])"
            ]
          },
          "metadata": {
            "tags": []
          },
          "execution_count": 8
        }
      ]
    },
    {
      "cell_type": "markdown",
      "metadata": {
        "id": "9kwAGEh2DIjh"
      },
      "source": [
        "### Calculate accuracy"
      ]
    },
    {
      "cell_type": "code",
      "metadata": {
        "colab": {
          "base_uri": "https://localhost:8080/"
        },
        "id": "zLFRNNo0DNL9",
        "outputId": "af450530-5dfb-4bfa-89a5-bd763c17c4d2"
      },
      "source": [
        "y_pred = gnb.predict(x_test)\n",
        "metrics.accuracy_score(y_test, y_pred)"
      ],
      "execution_count": null,
      "outputs": [
        {
          "output_type": "execute_result",
          "data": {
            "text/plain": [
              "0.8666666666666667"
            ]
          },
          "metadata": {
            "tags": []
          },
          "execution_count": 9
        }
      ]
    },
    {
      "cell_type": "markdown",
      "metadata": {
        "id": "uIBjuvUFF2YM"
      },
      "source": [
        "### Assess model performance using classification report"
      ]
    },
    {
      "cell_type": "code",
      "metadata": {
        "colab": {
          "base_uri": "https://localhost:8080/"
        },
        "id": "SZIWjTMNF36b",
        "outputId": "8c1dd10b-6d3e-4f23-a2e3-1cd7726b5496"
      },
      "source": [
        "print(classification_report(y_test, y_pred, digits=4, labels=np.unique(y_pred)))\n"
      ],
      "execution_count": null,
      "outputs": [
        {
          "output_type": "stream",
          "text": [
            "              precision    recall  f1-score   support\n",
            "\n",
            "   subject01     1.0000    1.0000    1.0000         1\n",
            "   subject02     1.0000    1.0000    1.0000         1\n",
            "   subject03     1.0000    1.0000    1.0000         1\n",
            "   subject04     1.0000    1.0000    1.0000         1\n",
            "   subject05     1.0000    1.0000    1.0000         1\n",
            "   subject06     1.0000    1.0000    1.0000         1\n",
            "   subject07     1.0000    1.0000    1.0000         1\n",
            "   subject08     0.5000    1.0000    0.6667         1\n",
            "   subject11     1.0000    1.0000    1.0000         1\n",
            "   subject12     0.5000    1.0000    0.6667         1\n",
            "   subject13     1.0000    1.0000    1.0000         1\n",
            "   subject14     1.0000    1.0000    1.0000         1\n",
            "   subject15     1.0000    1.0000    1.0000         1\n",
            "\n",
            "   micro avg     0.8667    1.0000    0.9286        13\n",
            "   macro avg     0.9231    1.0000    0.9487        13\n",
            "weighted avg     0.9231    1.0000    0.9487        13\n",
            "\n"
          ],
          "name": "stdout"
        }
      ]
    },
    {
      "cell_type": "markdown",
      "metadata": {
        "id": "kV6l1jzREnS5"
      },
      "source": [
        "*italicized text*## Multinomial Naive Bayes"
      ]
    },
    {
      "cell_type": "markdown",
      "metadata": {
        "id": "pewutnFDmA0r"
      },
      "source": [
        "## Multinomial Naive Bayes"
      ]
    },
    {
      "cell_type": "markdown",
      "metadata": {
        "id": "Hv39gORXEwba"
      },
      "source": [
        "### Train model"
      ]
    },
    {
      "cell_type": "code",
      "metadata": {
        "id": "C62jUHy2Esre",
        "colab": {
          "base_uri": "https://localhost:8080/"
        },
        "outputId": "f26df3b8-0eda-4b25-d179-0e665d6057ff"
      },
      "source": [
        "mnb = MultinomialNB()\n",
        "mnb.fit(x_train, y_train)"
      ],
      "execution_count": null,
      "outputs": [
        {
          "output_type": "execute_result",
          "data": {
            "text/plain": [
              "MultinomialNB(alpha=1.0, class_prior=None, fit_prior=True)"
            ]
          },
          "metadata": {
            "tags": []
          },
          "execution_count": 11
        }
      ]
    },
    {
      "cell_type": "markdown",
      "metadata": {
        "id": "hMs7bxbHAweE"
      },
      "source": [
        "### Show probability for each label"
      ]
    },
    {
      "cell_type": "code",
      "metadata": {
        "colab": {
          "base_uri": "https://localhost:8080/"
        },
        "id": "wZ_s4O8aA6Rl",
        "outputId": "cda20b4e-ee61-4b48-e436-c0eaada2b265"
      },
      "source": [
        "mnb.predict_proba(x_test)"
      ],
      "execution_count": null,
      "outputs": [
        {
          "output_type": "execute_result",
          "data": {
            "text/plain": [
              "array([[1.00000000e+000, 7.44703021e-110, 1.17384919e-080,\n",
              "        3.48885367e-064, 2.46349559e-078, 1.57571671e-181,\n",
              "        4.32659480e-086, 9.59646679e-093, 1.49693533e-109,\n",
              "        2.75091322e-060, 9.92794920e-070, 8.35579187e-095,\n",
              "        3.17043888e-081, 3.87375332e-169, 8.10569940e-095],\n",
              "       [1.80424038e-058, 1.00000000e+000, 3.49551815e-120,\n",
              "        1.33466693e-035, 4.48593445e-047, 2.90414950e-152,\n",
              "        2.39519223e-133, 1.51323900e-086, 1.53636358e-113,\n",
              "        2.54546196e-084, 1.33847624e-071, 3.12683211e-042,\n",
              "        8.72464258e-095, 1.63343841e-159, 1.08045798e-091],\n",
              "       [7.46654315e-056, 1.29019618e-118, 1.00000000e+000,\n",
              "        2.86630812e-092, 1.92061305e-079, 3.12682810e-165,\n",
              "        1.98615923e-035, 1.99661413e-068, 3.55449366e-081,\n",
              "        2.45942204e-039, 3.17612373e-063, 1.39544283e-099,\n",
              "        8.35613823e-029, 6.13586847e-150, 1.40584319e-067],\n",
              "       [2.16801624e-075, 1.18189789e-063, 1.44515558e-142,\n",
              "        1.00000000e+000, 4.37144157e-069, 1.17373001e-194,\n",
              "        5.37897237e-151, 8.16877104e-125, 3.35772100e-154,\n",
              "        1.10605965e-117, 4.03737068e-098, 6.00446972e-085,\n",
              "        7.56624993e-117, 9.12059372e-191, 1.36477853e-128],\n",
              "       [8.84350947e-100, 5.51493078e-097, 1.30418334e-138,\n",
              "        3.58884335e-080, 1.00000000e+000, 9.68275928e-201,\n",
              "        5.64861035e-157, 2.32813842e-130, 1.58452558e-165,\n",
              "        9.14219775e-128, 2.25090170e-113, 1.52823058e-094,\n",
              "        2.01785530e-102, 2.72985800e-200, 1.41340186e-139],\n",
              "       [1.18318313e-139, 4.85296744e-142, 4.07490195e-148,\n",
              "        1.00641727e-147, 5.06693361e-142, 1.00000000e+000,\n",
              "        2.94922681e-160, 2.07011788e-129, 9.41227783e-124,\n",
              "        3.72735176e-151, 7.31357378e-160, 3.34650556e-121,\n",
              "        2.96732177e-151, 4.16271875e-127, 3.73041275e-127],\n",
              "       [9.50533100e-107, 4.74606171e-164, 8.83912501e-041,\n",
              "        5.53682627e-138, 1.09451964e-139, 2.14123962e-170,\n",
              "        1.00000000e+000, 3.40640765e-069, 5.33666945e-067,\n",
              "        1.13081861e-071, 9.25547247e-088, 2.63543227e-144,\n",
              "        2.41403767e-103, 2.38185277e-145, 9.99677860e-075],\n",
              "       [6.29998023e-093, 1.09216473e-121, 6.39026269e-016,\n",
              "        4.16395704e-117, 9.92251644e-110, 3.60167888e-144,\n",
              "        3.43048413e-021, 1.00000000e+000, 1.10943457e-019,\n",
              "        1.09540320e-040, 7.93917024e-083, 1.00797869e-111,\n",
              "        9.01013218e-083, 9.02082068e-113, 1.91937130e-051],\n",
              "       [2.15212449e-031, 1.86617727e-054, 3.03628816e-047,\n",
              "        8.79292174e-025, 4.32473072e-028, 2.25948838e-119,\n",
              "        1.56713567e-050, 1.00000000e+000, 3.02173736e-014,\n",
              "        1.81723080e-017, 4.53110379e-034, 4.32712143e-035,\n",
              "        1.56141076e-035, 9.89014165e-115, 6.05176117e-030],\n",
              "       [1.43978215e-044, 6.87383820e-098, 5.12431444e-079,\n",
              "        1.18096951e-045, 4.10392473e-053, 1.03574612e-170,\n",
              "        1.71689566e-088, 1.25808893e-077, 9.21818236e-105,\n",
              "        1.00000000e+000, 8.76647005e-057, 1.64875399e-075,\n",
              "        3.75226452e-070, 1.04123026e-156, 7.00817780e-080],\n",
              "       [5.51843426e-093, 1.23196393e-133, 5.57861411e-121,\n",
              "        4.02145229e-092, 3.81787117e-103, 1.21772700e-213,\n",
              "        7.30926222e-116, 7.73085442e-124, 3.40822503e-140,\n",
              "        7.31844289e-102, 1.00000000e+000, 3.88541009e-117,\n",
              "        1.80929491e-119, 3.80395677e-204, 9.16129830e-127],\n",
              "       [1.43627629e-081, 1.45910574e-025, 1.08276014e-126,\n",
              "        4.67582039e-050, 1.23583272e-038, 2.21953171e-149,\n",
              "        1.40339891e-145, 1.16695864e-109, 7.14626367e-142,\n",
              "        2.28843099e-111, 4.00982733e-078, 1.00000000e+000,\n",
              "        2.93714927e-103, 1.07940000e-157, 8.80904692e-117],\n",
              "       [2.21923928e-106, 6.08958499e-135, 5.77264978e-104,\n",
              "        1.57983604e-119, 1.07363083e-093, 1.41836968e-201,\n",
              "        4.67299166e-117, 8.44344855e-135, 3.14817940e-152,\n",
              "        4.43000394e-111, 8.55123722e-107, 1.14058527e-134,\n",
              "        1.00000000e+000, 5.17088021e-184, 1.52924945e-146],\n",
              "       [1.33760718e-214, 3.17871288e-217, 8.51887996e-207,\n",
              "        1.67557408e-226, 1.17600288e-220, 1.96846112e-147,\n",
              "        5.08186180e-220, 2.21473960e-181, 4.85078818e-160,\n",
              "        1.22779707e-213, 1.43989199e-226, 1.11719445e-211,\n",
              "        8.19749653e-207, 1.00000000e+000, 1.33012092e-190],\n",
              "       [4.24794221e-061, 2.43647616e-097, 9.81641459e-078,\n",
              "        4.08637400e-050, 1.98190684e-081, 9.60190948e-130,\n",
              "        1.77379740e-068, 4.63076783e-023, 4.82237507e-053,\n",
              "        7.81063949e-039, 2.67858737e-067, 7.53630773e-076,\n",
              "        5.09311021e-087, 1.05487940e-120, 1.00000000e+000]])"
            ]
          },
          "metadata": {
            "tags": []
          },
          "execution_count": 12
        }
      ]
    },
    {
      "cell_type": "markdown",
      "metadata": {
        "id": "HQlykFlXH8EN"
      },
      "source": [
        "### Calculate Accuracy"
      ]
    },
    {
      "cell_type": "code",
      "metadata": {
        "id": "eNIVuWhwH9KL",
        "colab": {
          "base_uri": "https://localhost:8080/"
        },
        "outputId": "6b671c36-28a6-4d9f-f3ce-9ab4d15ed23e"
      },
      "source": [
        "y_pred = mnb.predict(x_test)\n",
        "metrics.accuracy_score(y_test, y_pred)"
      ],
      "execution_count": null,
      "outputs": [
        {
          "output_type": "execute_result",
          "data": {
            "text/plain": [
              "0.9333333333333333"
            ]
          },
          "metadata": {
            "tags": []
          },
          "execution_count": 13
        }
      ]
    },
    {
      "cell_type": "markdown",
      "metadata": {
        "id": "_qV8_CkHA8Nc"
      },
      "source": [
        "### Show confusion matrix"
      ]
    },
    {
      "cell_type": "code",
      "metadata": {
        "colab": {
          "base_uri": "https://localhost:8080/"
        },
        "id": "TBQWc6A_A7Ub",
        "outputId": "8eaff2e5-7e29-4c50-a32e-28724291ed34"
      },
      "source": [
        "metrics.confusion_matrix(y_test, y_pred)"
      ],
      "execution_count": null,
      "outputs": [
        {
          "output_type": "execute_result",
          "data": {
            "text/plain": [
              "array([[1, 0, 0, 0, 0, 0, 0, 0, 0, 0, 0, 0, 0, 0, 0],\n",
              "       [0, 1, 0, 0, 0, 0, 0, 0, 0, 0, 0, 0, 0, 0, 0],\n",
              "       [0, 0, 1, 0, 0, 0, 0, 0, 0, 0, 0, 0, 0, 0, 0],\n",
              "       [0, 0, 0, 1, 0, 0, 0, 0, 0, 0, 0, 0, 0, 0, 0],\n",
              "       [0, 0, 0, 0, 1, 0, 0, 0, 0, 0, 0, 0, 0, 0, 0],\n",
              "       [0, 0, 0, 0, 0, 1, 0, 0, 0, 0, 0, 0, 0, 0, 0],\n",
              "       [0, 0, 0, 0, 0, 0, 1, 0, 0, 0, 0, 0, 0, 0, 0],\n",
              "       [0, 0, 0, 0, 0, 0, 0, 1, 0, 0, 0, 0, 0, 0, 0],\n",
              "       [0, 0, 0, 0, 0, 0, 0, 1, 0, 0, 0, 0, 0, 0, 0],\n",
              "       [0, 0, 0, 0, 0, 0, 0, 0, 0, 1, 0, 0, 0, 0, 0],\n",
              "       [0, 0, 0, 0, 0, 0, 0, 0, 0, 0, 1, 0, 0, 0, 0],\n",
              "       [0, 0, 0, 0, 0, 0, 0, 0, 0, 0, 0, 1, 0, 0, 0],\n",
              "       [0, 0, 0, 0, 0, 0, 0, 0, 0, 0, 0, 0, 1, 0, 0],\n",
              "       [0, 0, 0, 0, 0, 0, 0, 0, 0, 0, 0, 0, 0, 1, 0],\n",
              "       [0, 0, 0, 0, 0, 0, 0, 0, 0, 0, 0, 0, 0, 0, 1]])"
            ]
          },
          "metadata": {
            "tags": []
          },
          "execution_count": 14
        }
      ]
    },
    {
      "cell_type": "markdown",
      "metadata": {
        "id": "sJdTxhqnBCN9"
      },
      "source": [
        "### Display classification report"
      ]
    },
    {
      "cell_type": "code",
      "metadata": {
        "colab": {
          "base_uri": "https://localhost:8080/"
        },
        "id": "HWwVFlBkBGYV",
        "outputId": "fe65ecdb-f6a1-4d5b-eb6b-06c0ce82306b"
      },
      "source": [
        "print(classification_report(y_test, y_pred, digits=4, labels=np.unique(y_pred)))"
      ],
      "execution_count": null,
      "outputs": [
        {
          "output_type": "stream",
          "text": [
            "              precision    recall  f1-score   support\n",
            "\n",
            "   subject01     1.0000    1.0000    1.0000         1\n",
            "   subject02     1.0000    1.0000    1.0000         1\n",
            "   subject03     1.0000    1.0000    1.0000         1\n",
            "   subject04     1.0000    1.0000    1.0000         1\n",
            "   subject05     1.0000    1.0000    1.0000         1\n",
            "   subject06     1.0000    1.0000    1.0000         1\n",
            "   subject07     1.0000    1.0000    1.0000         1\n",
            "   subject08     0.5000    1.0000    0.6667         1\n",
            "   subject10     1.0000    1.0000    1.0000         1\n",
            "   subject11     1.0000    1.0000    1.0000         1\n",
            "   subject12     1.0000    1.0000    1.0000         1\n",
            "   subject13     1.0000    1.0000    1.0000         1\n",
            "   subject14     1.0000    1.0000    1.0000         1\n",
            "   subject15     1.0000    1.0000    1.0000         1\n",
            "\n",
            "   micro avg     0.9333    1.0000    0.9655        14\n",
            "   macro avg     0.9643    1.0000    0.9762        14\n",
            "weighted avg     0.9643    1.0000    0.9762        14\n",
            "\n"
          ],
          "name": "stdout"
        }
      ]
    },
    {
      "cell_type": "markdown",
      "metadata": {
        "id": "YBdfbx8Q_mjd"
      },
      "source": [
        "## Support Vector Machine (SVM)"
      ]
    },
    {
      "cell_type": "code",
      "metadata": {
        "id": "UIZC36_Edygj",
        "colab": {
          "base_uri": "https://localhost:8080/"
        },
        "outputId": "c360f94d-a0e6-46e9-da4d-67a1c26f40aa"
      },
      "source": [
        "clf = svm.SVC(gamma=0.0001, C=1E2, probability=True)\n",
        "clf = clf.fit(x_train, y_train)\n",
        "score = clf.score(x_test, y_test)\n",
        "print('Score:', score)"
      ],
      "execution_count": null,
      "outputs": [
        {
          "output_type": "stream",
          "text": [
            "Score: 0.9333333333333333\n"
          ],
          "name": "stdout"
        }
      ]
    },
    {
      "cell_type": "markdown",
      "metadata": {
        "id": "NTU1QaJLDxEy"
      },
      "source": [
        "### Show probability for each label"
      ]
    },
    {
      "cell_type": "code",
      "metadata": {
        "colab": {
          "base_uri": "https://localhost:8080/"
        },
        "id": "Bvb5ZmzSD1Vw",
        "outputId": "33213220-756c-4b11-b97c-b3f53b806a7c"
      },
      "source": [
        "clf.predict_proba(x_test)"
      ],
      "execution_count": null,
      "outputs": [
        {
          "output_type": "execute_result",
          "data": {
            "text/plain": [
              "array([[0.479101  , 0.02409128, 0.05069264, 0.05763837, 0.02975252,\n",
              "        0.01314002, 0.04843426, 0.04105857, 0.05058951, 0.05152856,\n",
              "        0.02926438, 0.05294805, 0.02901956, 0.01120221, 0.03153907],\n",
              "       [0.09132459, 0.23550789, 0.03049614, 0.11809948, 0.06622996,\n",
              "        0.01931211, 0.02131673, 0.07476   , 0.05306214, 0.04170648,\n",
              "        0.03928564, 0.12847888, 0.02760137, 0.01548835, 0.03733022],\n",
              "       [0.03558657, 0.01253194, 0.5254968 , 0.01973963, 0.01808591,\n",
              "        0.0112685 , 0.06971515, 0.03853138, 0.07925872, 0.03850581,\n",
              "        0.02046515, 0.02284796, 0.06785733, 0.00905474, 0.03105441],\n",
              "       [0.07074146, 0.06601321, 0.02194553, 0.497315  , 0.0523434 ,\n",
              "        0.01500907, 0.0218888 , 0.04045385, 0.02999424, 0.02419064,\n",
              "        0.02811347, 0.07238979, 0.02322153, 0.0125871 , 0.02379293],\n",
              "       [0.05429389, 0.03906535, 0.03575084, 0.04946941, 0.52218894,\n",
              "        0.01395486, 0.01698399, 0.04657788, 0.03017291, 0.02034972,\n",
              "        0.02373417, 0.07431439, 0.0378908 , 0.01178488, 0.02346799],\n",
              "       [0.05369596, 0.02765745, 0.03983853, 0.03227771, 0.03166415,\n",
              "        0.50753053, 0.02654378, 0.04934929, 0.05672474, 0.01822425,\n",
              "        0.01453482, 0.04527794, 0.02722302, 0.02944307, 0.04001476],\n",
              "       [0.02594753, 0.01145437, 0.08294144, 0.01616215, 0.01263187,\n",
              "        0.01874403, 0.53842077, 0.06752133, 0.07699309, 0.02519365,\n",
              "        0.02267204, 0.01594929, 0.02128944, 0.01634454, 0.04773446],\n",
              "       [0.01600536, 0.01199194, 0.04270917, 0.01235075, 0.01100846,\n",
              "        0.01238163, 0.03681484, 0.70125392, 0.05213089, 0.02092219,\n",
              "        0.01291479, 0.01357384, 0.01928698, 0.01286543, 0.0237898 ],\n",
              "       [0.04709848, 0.0278852 , 0.03791167, 0.06154917, 0.03990037,\n",
              "        0.01419664, 0.0345571 , 0.2547518 , 0.24582113, 0.04198192,\n",
              "        0.03153118, 0.06871398, 0.03570624, 0.01165301, 0.0467421 ],\n",
              "       [0.07884717, 0.02523196, 0.06857577, 0.10832484, 0.04841623,\n",
              "        0.01423862, 0.039913  , 0.05888241, 0.05292086, 0.30906151,\n",
              "        0.04254679, 0.06322623, 0.03529225, 0.01338834, 0.041134  ],\n",
              "       [0.04033923, 0.01748055, 0.02465338, 0.04200527, 0.02800883,\n",
              "        0.00892681, 0.02763883, 0.02869832, 0.0283342 , 0.02634983,\n",
              "        0.64170298, 0.0421276 , 0.01611359, 0.00838262, 0.01923796],\n",
              "       [0.04988746, 0.07524398, 0.0178166 , 0.03980613, 0.07364227,\n",
              "        0.01399373, 0.01077546, 0.0277543 , 0.01682936, 0.01313653,\n",
              "        0.02165368, 0.5978967 , 0.01547455, 0.01140998, 0.01467928],\n",
              "       [0.03326662, 0.02130483, 0.04985606, 0.0222103 , 0.03612828,\n",
              "        0.01260774, 0.02671153, 0.03100703, 0.03792313, 0.01918319,\n",
              "        0.02216455, 0.0296016 , 0.63107804, 0.01153995, 0.01541716],\n",
              "       [0.02605525, 0.01942175, 0.02373972, 0.01672111, 0.01597061,\n",
              "        0.05165705, 0.01548569, 0.03301223, 0.04078675, 0.01431683,\n",
              "        0.01053638, 0.01959882, 0.02380225, 0.66503898, 0.02385658],\n",
              "       [0.06318218, 0.02632165, 0.03597052, 0.07526491, 0.02509405,\n",
              "        0.02289034, 0.05504803, 0.13653029, 0.06890549, 0.04746678,\n",
              "        0.02809578, 0.04720119, 0.02698327, 0.01906433, 0.32198122]])"
            ]
          },
          "metadata": {
            "tags": []
          },
          "execution_count": 78
        }
      ]
    }
  ]
}